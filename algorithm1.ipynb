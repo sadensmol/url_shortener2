{
 "metadata": {
  "language_info": {
   "codemirror_mode": {
    "name": "ipython",
    "version": 3
   },
   "file_extension": ".py",
   "mimetype": "text/x-python",
   "name": "python",
   "nbconvert_exporter": "python",
   "pygments_lexer": "ipython3",
   "version": "3.8.5-final"
  },
  "orig_nbformat": 2,
  "kernelspec": {
   "name": "python3",
   "display_name": "Python 3",
   "language": "python"
  }
 },
 "nbformat": 4,
 "nbformat_minor": 2,
 "cells": [
  {
   "source": [
    "the main idea of the algorithm\n",
    "Is to start from the single symbol as a 1st short url, \n",
    "the go through all the possible symbols in dictionary\n",
    "number of combinations = len(dictionary)\n",
    "\n",
    "then switch to 2 symbols combinations where the 1st symbol is a base, and \n",
    "2nd symbol - the tail, which iterates over the dictionary.\n",
    "We need to go through all the possible combinations of every 2 symbols.\n",
    "aa,ab, ba, bb, ca,... a9..99\n",
    "Number of combinations len(dictionary)^2\n",
    "\n",
    "continue with 3 symbols...\n",
    "Number of combinations = len(dictionary)^3\n",
    "\n",
    "Number of combinations for n symbols \n",
    "Nn = sum(len(dictionary)^m) for m = 1... n\n",
    "\n",
    "and total number of combinations for base62 dictionary: ... "
   ],
   "cell_type": "markdown",
   "metadata": {}
  },
  {
   "source": [
    "First we setup the dictionary to full base62 set"
   ],
   "cell_type": "markdown",
   "metadata": {}
  },
  {
   "cell_type": "code",
   "execution_count": 6,
   "metadata": {},
   "outputs": [],
   "source": [
    "dictionary = \"abcdefghijklmnopqrstuvwxyzABCDEFGHIJKLMNOPQRSTUVWXYZ0123456789\"\n",
    "len_dict = len(dictionary)"
   ]
  },
  {
   "source": [
    "Here is function which does all the required iterations  \n",
    "Target value here - is the value we need to get from the function.  \n",
    "For example if we need to generate url for counter = 5, we set params[0]=5  \n",
    "\n",
    "startValue here - is an array we want to start from, for example  \n",
    "we could start with [0,0] value, which equals to \"aa\" string  \n",
    "or we could start immediately from [1,2,3] value which equals to \"bcd\" string  \n"
   ],
   "cell_type": "markdown",
   "metadata": {}
  },
  {
   "cell_type": "code",
   "execution_count": 4,
   "metadata": {},
   "outputs": [],
   "source": [
    "def generate(startValues,values,ind,params):\n",
    "\n",
    "    if (ind==len(values)): \n",
    "        print(values) # just for debug purposes\n",
    "        params[0]-=1 #got new value, decrease counter!\n",
    "        return\n",
    "\n",
    "    for i in range(startValues[ind],len_dict):\n",
    "        values[ind] = i\n",
    "        generate(startValues,values,ind+1, params)\n",
    "\n",
    "        if (params[0]<=0): break #got the target value\n"
   ]
  },
  {
   "source": [
    "now we setup the values and execute  \n",
    "We start from \\[3,3\\] values, and require 188 counts from it.  \n",
    "\n",
    "In the final implementation \\[3,3\\] value equals to some counter value, for example 123  \n",
    "and we need to get value equals to counter=200, so we pass params \\[200-123\\] in this case\n",
    "\n"
   ],
   "cell_type": "markdown",
   "metadata": {}
  },
  {
   "cell_type": "code",
   "execution_count": 7,
   "metadata": {},
   "outputs": [
    {
     "output_type": "stream",
     "name": "stdout",
     "text": [
      "[3, 3]\n[3, 4]\n[3, 5]\n[3, 6]\n[3, 7]\n[3, 8]\n[3, 9]\n[3, 10]\n[3, 11]\n[3, 12]\n[3, 13]\n[3, 14]\n[3, 15]\n[3, 16]\n[3, 17]\n[3, 18]\n[3, 19]\n[3, 20]\n[3, 21]\n[3, 22]\n[3, 23]\n[3, 24]\n[3, 25]\n[3, 26]\n[3, 27]\n[3, 28]\n[3, 29]\n[3, 30]\n[3, 31]\n[3, 32]\n[3, 33]\n[3, 34]\n"
     ]
    }
   ],
   "source": [
    "startValues = [3,3]\n",
    "params = [32]\n",
    "\n",
    "while params[0]>0:\n",
    "    generate(startValues,startValues.copy(),0, params)\n",
    "    startValues=[0]*(len(startValues)+1)\n"
   ]
  },
  {
   "source": [
    "here we have a result \\[3,34\\] which equals to \"cJ\" in a string representation"
   ],
   "cell_type": "markdown",
   "metadata": {}
  }
 ]
}